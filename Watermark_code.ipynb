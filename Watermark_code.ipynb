{
 "cells": [
  {
   "cell_type": "code",
   "execution_count": 1,
   "id": "listed-auckland",
   "metadata": {},
   "outputs": [],
   "source": [
    "import os\n",
    "import numpy as np\n",
    "from PIL import Image\n",
    "from PIL import ImageFont, ImageDraw, ImageOps\n",
    "from random import randint"
   ]
  },
  {
   "cell_type": "code",
   "execution_count": 16,
   "id": "equivalent-broadcasting",
   "metadata": {},
   "outputs": [],
   "source": [
    "if not os.path.exists('watermarked_images'):\n",
    "      os.makedirs('watermarked_images')\n",
    "        \n",
    "if not os.path.exists('clean_images_2'):\n",
    "      os.makedirs('clean_images_2')"
   ]
  },
  {
   "cell_type": "code",
   "execution_count": 17,
   "id": "rising-kansas",
   "metadata": {},
   "outputs": [],
   "source": [
    "names = ['CLASSIFIED', 'TOP SECRET', 'DO NOT COPY', 'VERIFIED','CONFIDENTIAL', 'RIGHTS RESERVED', 'PYTHON', 'WATERMARKING', 'COMPANY', 'DRAFT']\n",
    "fonts1 = ['arial','times']"
   ]
  },
  {
   "cell_type": "code",
   "execution_count": 38,
   "id": "favorite-bumper",
   "metadata": {},
   "outputs": [],
   "source": [
    "def watermarking1(source,i,names = names, fonts = fonts1):\n",
    "    im=(Image.open(source))#*255\n",
    "    cim=im.convert(\"L\")\n",
    "    cim = cim.resize((768,1024), Image.ANTIALIAS)\n",
    "    cim.save('clean_images_resized/'+str(i)+'.png')\n",
    "    im=im.convert('RGB')\n",
    "    f = ImageFont.truetype(\"/Library/Fonts/Arial.ttf\", 180)\n",
    "    #f = ImageFont.truetype(fonts1[randint(0,1)], randint(150, 350))\n",
    "    txt=Image.new('L', (randint(1500, 2000),randint(2000, 3000)))\n",
    "    d = ImageDraw.Draw(txt)\n",
    "    ran=randint(0, 9)\n",
    "    d.text( (randint(20,260), randint(50,320)), names[ran],  font=f, fill=randint(245,253))\n",
    "    w=txt.rotate(randint(0, 90),  expand=1)\n",
    "    im.paste( ImageOps.colorize(w, (randint(0, 255),randint(0, 255),randint(0, 255)), (randint(0, 255),randint(0, 255),randint(0, 255))), (30,40),  w)\n",
    "    im=im.convert('L')\n",
    "    im = im.resize((768,1024), Image.ANTIALIAS)\n",
    "    im.save('watermarked_images/'+str(i)+'w.png')"
   ]
  },
  {
   "cell_type": "code",
   "execution_count": 39,
   "id": "victorian-sandwich",
   "metadata": {},
   "outputs": [],
   "source": [
    "for i in os.listdir(\"./clean_images/grayscale\"):\n",
    "    watermarking1(\"./clean_images/grayscale/\"+str(i),i[:-4])"
   ]
  },
  {
   "cell_type": "code",
   "execution_count": null,
   "id": "certain-january",
   "metadata": {},
   "outputs": [],
   "source": []
  }
 ],
 "metadata": {
  "kernelspec": {
   "display_name": "Python 3",
   "language": "python",
   "name": "python3"
  },
  "language_info": {
   "codemirror_mode": {
    "name": "ipython",
    "version": 3
   },
   "file_extension": ".py",
   "mimetype": "text/x-python",
   "name": "python",
   "nbconvert_exporter": "python",
   "pygments_lexer": "ipython3",
   "version": "3.7.6"
  }
 },
 "nbformat": 4,
 "nbformat_minor": 5
}
